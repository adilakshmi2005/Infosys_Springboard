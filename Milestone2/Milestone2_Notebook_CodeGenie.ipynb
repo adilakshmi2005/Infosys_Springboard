{
  "nbformat": 4,
  "nbformat_minor": 0,
  "metadata": {
    "colab": {
      "provenance": [],
      "gpuType": "T4"
    },
    "kernelspec": {
      "name": "python3",
      "display_name": "Python 3"
    },
    "language_info": {
      "name": "python"
    },
    "accelerator": "GPU"
  },
  "cells": [
    {
      "cell_type": "code",
      "source": [
        "from google.colab import output\n",
        "output.enable_custom_widget_manager()\n"
      ],
      "metadata": {
        "id": "Bv1XLy6plR2g"
      },
      "execution_count": null,
      "outputs": []
    },
    {
      "cell_type": "code",
      "source": [
        "from huggingface_hub import login\n",
        "login()\n"
      ],
      "metadata": {
        "colab": {
          "base_uri": "https://localhost:8080/",
          "height": 17,
          "referenced_widgets": [
            "5e7c87ae12a144e9b5f3ae9a84c8edbf",
            "29bfd9ee6b6b44eb9dd918d63c7d8e99",
            "eae83801068a422a80f24d0051a01c5d",
            "e2fd3e72ffd046ca80b90a7226c64399",
            "541ae372198246fc94211d8a1b966219",
            "d6083289e5ea48eda4ca4d9d3759e512",
            "fefa9ad31da941f9b1437d848ef033ff",
            "4aa47eced93b41b2839b586073962bb7",
            "b35a5a118f0f4dba8734357d9e79cb6c",
            "aeb7dbbc4e7d43a991ea026fdc58998f",
            "9c623e2f1e8d44bb8b2ff6d48e62e680",
            "508f97f8ae734f85b7294a470e0fe80d",
            "f395f9fbbf5c45c7a44ad59e198dabeb",
            "9be85378ce374851938a5fc15e88f9cb",
            "8938c4c116384dcebfd9d8240676c684",
            "8761107acdb14183a19cc34554d7b909",
            "342cdd25401e4c08bcb9ffb825447707",
            "751f4961226847b586f18f425bb2d61e",
            "a52fc8f178ac4f3d8ab78b22c2f98146",
            "b44139ea4db4426f9d51a9f085bf643a"
          ]
        },
        "id": "0nW1FK8hlSHc",
        "outputId": "28e80913-790b-497e-9e91-594a14c995fa"
      },
      "execution_count": null,
      "outputs": [
        {
          "output_type": "display_data",
          "data": {
            "text/plain": [
              "VBox(children=(HTML(value='<center> <img\\nsrc=https://huggingface.co/front/assets/huggingface_logo-noborder.sv…"
            ],
            "application/vnd.jupyter.widget-view+json": {
              "version_major": 2,
              "version_minor": 0,
              "model_id": "5e7c87ae12a144e9b5f3ae9a84c8edbf"
            }
          },
          "metadata": {
            "application/vnd.jupyter.widget-view+json": {
              "colab": {
                "custom_widget_manager": {
                  "url": "https://ssl.gstatic.com/colaboratory-static/widgets/colab-cdn-widget-manager/2b70e893a8ba7c0f/manager.min.js"
                }
              }
            }
          }
        }
      ]
    },
    {
      "cell_type": "code",
      "source": [
        "from transformers import AutoModelForCausalLM, AutoTokenizer\n",
        "import torch\n"
      ],
      "metadata": {
        "id": "LwrcDayJqOEB"
      },
      "execution_count": null,
      "outputs": []
    },
    {
      "cell_type": "code",
      "source": [
        "device = \"cuda\" if torch.cuda.is_available() else \"cpu\"\n",
        "\n",
        "models = {\n",
        "    \"DeepSeek\": \"deepseek-ai/deepseek-coder-1.3b-instruct\",\n",
        "    \"Phi-2\": \"microsoft/phi-2\",\n",
        "    \"Gemma\": \"google/gemma-2b-it\"\n",
        "}\n",
        "\n",
        "tokenizers = {}\n",
        "model_objects = {}\n",
        "\n",
        "for name, model_id in models.items():\n",
        "    print(f\"🔹 Loading {name} ...\")\n",
        "    tokenizers[name] = AutoTokenizer.from_pretrained(model_id)\n",
        "    model_objects[name] = AutoModelForCausalLM.from_pretrained(\n",
        "        model_id,\n",
        "        torch_dtype=torch.bfloat16,\n",
        "        device_map=\"auto\"\n",
        "    )\n",
        "print(\"✅ All models loaded successfully!\")\n"
      ],
      "metadata": {
        "colab": {
          "base_uri": "https://localhost:8080/",
          "height": 1000,
          "referenced_widgets": [
            "03a602c64bdd44c0b952a2dc3ed22543",
            "c3548c7ed97f4ac9aa56c6fcaa47249e",
            "b3ee238e2c7249ce84e9f4a93173bb1f",
            "45a4a4c898184b349dd55b157b7ed5a5",
            "e316cff7aa8f4be8a22fd67821583a9e",
            "5c422a45c134439e98bf3903b1669e61",
            "96d5ca23e89745d8937c43076a25578d",
            "4573cd89a8104a44bdb7f87acc550fb6",
            "50bbd2a2bef249a58afb7d42b6954b5d",
            "bf47f02c2c16451abd4a2ffc5cf064fd",
            "7dcd3f12f3c9486683ee25aacb3f1efb",
            "1233e1f51da04565874e670911ba1b34",
            "0102b78819f7401283dce71f9c0c1c5b",
            "031cec91f71447d09a34fcad2dd9499e",
            "d6386835b2864be989bc68a6617b227a",
            "5a541ae9b0f24e9e9c70c4fef9d9d64a",
            "1289ab7deb2f43cca7b2c46f91881cb4",
            "21025d62dfed4f2a83d95eeff77876d1",
            "86c2f16799e04aef9db7c0cd704270b6",
            "1c876ee4621f44b1bf9c2ab7ebbb632d",
            "f73b23f3d86b44d6bb2f0dd569bab998",
            "d24b149ebd6441529545134863a68f85",
            "e4463d917415492cb1d0cd5e01bda755",
            "a91cc3363aeb443280bc3c4b570002c0",
            "9cd28a1cc9b74d3db02db9a352ff0d4a",
            "dd55cbce0c0349d8a195beca702cd188",
            "a909478ec13449568f3d71e3099a3d8c",
            "551e76eea2b0468fad3f37dc4b6c5f5c",
            "e6a5564a60364d1fadf6eab5efec04d1",
            "1df9a0ce1ed0462aaeb55ba8b55647af",
            "f019e8c740794d8382b28f8f2f324010",
            "b20fe4fb671c428aa00a04c7601c54b4",
            "02bf325e7152411ebfe99f29e2bd6a6f",
            "779823d778584638bc1dada608c5b6a1",
            "e3eb3d489d894a5aaa944eb97516f091",
            "83d8dbb9871343dca17322a950ccafb3",
            "27ab1020deff4864a54d186aed29f5ba",
            "b1a1eb352fb643219eb5bef9be41f315",
            "8d7a0e2a62ab43c381bc39a94b0150de",
            "2c8ee585e7aa434c87914952668be62f",
            "0230f0fd943341b092f67712135ae4d1",
            "58a7ef7422a544c2bb0093aa1e825a36",
            "4270d5e2ade9463281274307d94e0275",
            "05ddf59ce4b84acab0f93250c383f9ae",
            "83eb9d72916e418b83a42cf981ce7e4c",
            "790b4106532d43099d9c8ebd33257c54",
            "482ff1e0cf9b437b8cfa108e2677864f",
            "d0bc4492e8a7452180314e7088be7693",
            "ca5cde81aa16403884b05d740c62c7f0",
            "75ad0a69bdc2413d8c536daa5485aa35",
            "4841839bcf304141a5b86c2e3b365f11",
            "7c5577a3306449e1a5f075af67bb9e35",
            "8e905f3fcba54dc09f941889684579f1",
            "9c25319e472241bebe1687de22f1948f",
            "6d5a86f285204f0e96998846b926dadd",
            "1126d342a400440a916b6e442f160869",
            "041bdd7115584f6ea58fcad7b7127c1b",
            "fe1c9b79498d4d0b9974ea0fe0570f09",
            "3f8419bfe3b84fc4abfa013c47030b13",
            "538920eab3e0434fbc946a7168a04255",
            "cf0dc79f2d59490d83d91fa4ab9f50db",
            "b04eeb61b1d04d85a14b62ab08fc56bb",
            "493321a7db774c44bfdd8d1a388cae7f",
            "235fe3ff20424c9abbfd82c701c6a060",
            "2b9af894f2a44bf8ba644c6ad7367004",
            "5e0a953a70364782afbdd66651f46a32",
            "ca0917b106db4fe5ae6e438c7c2deb03",
            "418302f1e74f489cb8e8067a8c33a012",
            "24e657ec9ee54967b498017edbb98576",
            "d1e7afda96c643788eac39907772116a",
            "223b9469d186491eabdf8e59e5b4c9f9",
            "1f4fb0b0b94c4d0e8b863c50fb7bf565",
            "671876d44eb64e9798ed784a0c2c467b",
            "a682d85129ec4f34a9156f6b9365724d",
            "a48080a741524a9d952f8576d9ccca6e",
            "c116000e5ade43d293495ebec52215a8",
            "5d0ff0805d364f66b1dac751eccc6e67",
            "7de3265193aa443a852774c9b262d729",
            "df0214e787b2427fb0e14d1cdfdac960",
            "6629473a63e24f6b8b980c86a399a494",
            "259ff1da12e640ccbd8955f879e540b9",
            "5ac5ab6e333c4c5ba67dd5635809916d",
            "ad169d4b25ae414ab029d84e491fad6e",
            "be2560ee839c40fcaeade4d6d6ce7b99",
            "cc775e274cb7465396d781ba5b75aaca",
            "9292ef2607854737a2d999fe4b5bcb40",
            "c7cf411be208450eb8e9ba88fa98263a",
            "afebfc698b904fd3a7c7977f26416f6a",
            "c56b82e6a3144aad98807549b1179e4d",
            "d430f76473184c54ab7605c71336ebe9",
            "18b0e6f231064a529844aabc9294ddb4",
            "ad463ad6fbbd4561b8e3a7e0e1427c86",
            "b0daed9eef6547fb875c3314d0f35765",
            "c8c6e716f94c4ce88f26092481063f30",
            "ec78f399619f4bd49910c535a5214e7e",
            "89f3bbaa39724c21951cf83c3d560d08",
            "ae925fe8ca9644558598281b099c79b5",
            "6e4a1cc6745d4b618d15b72b676933d1",
            "47f0f6449e144b708f584d9b5908582e",
            "653a5676be0d48f885151a5f564e2398",
            "92ce46aa73504e3aafc5ebbf7c8fd39e",
            "d1a7b9763d334b59ac7a38aa9f6dfba3",
            "03959fd48b4a46f0a5487b5969aa743d",
            "ca5c1e115fe445d582eb9855c2189651",
            "31da38f802864d71aa880276b1cbb66e",
            "d2890163730f43ca959056f356a40b39",
            "764f404a76944ec4b317dda8d3edc7cf",
            "683862ebb8984987aec6f9d64090cd04",
            "99616dc4df184b49a313c193179012ca",
            "5cde9d9b98234a65b2c520026887336e",
            "fad62e16769f4081b7a82f3255f99b64",
            "2632bf2f48e4463ebf3c226702ca67ae",
            "1dfc125345024956ad597438138e6d71",
            "4c2f453cef874ca0b018537097c42bd1",
            "127479c7cd9a44f59f9adce7d3a18218",
            "5eb8d1c997dc435cba566489a8bc9d62",
            "ef5870741e99425597b2c128963ef866",
            "3ea9a72a361f4dd4bdd238dfbecd517a",
            "62c0c1536a27492981fd4adc30124736",
            "40ab4dcab4bd44f6be9b82eeb2d0630d",
            "b3a0e8b0888a45e28d9e96598ff56d98",
            "c272c58cb9304779969165cacab6793b",
            "178a18f9ada64cbb9628c79b8137be61",
            "2f9c7666236842d49a8cd586a3af4707",
            "4fedd9ba358642168887f41c28c26411",
            "3c312d0d8ee14f3c80e42e4de0d687ac",
            "93903bc406c145cd810eb8885d57013b",
            "1b368371ca904148b8708f705ef3fe3b",
            "d5bc0eb05d14455ab792189f711e5912",
            "85c732281f8948578e4627df8455ccfe",
            "088952fc279747249a98fc509338bb3f",
            "a0eb6512a1f84c06b752e57e82d3af60",
            "58831ea7c1dc4f6287ffee4daa9495f3",
            "796b72a091d84a2aa9a87090c67d119b",
            "343f8c0c502244f3861594de6d932ffc",
            "b1462eaf912a4d8889d5beb93914cdf1",
            "860abdb7eafb4e3d9a5148c5d3ae899a",
            "f7d926c4e40a4d5fb5b8c4b8dc60a1cc",
            "20ed75b89402434f87edcd3078da3a52",
            "3c8d469e7e354d12bcda8be54a6a1d2b",
            "5b9b86e510e04d8a9bbddf260bab3044",
            "2a8ce963f7ff4f97b47f1c29018cdf44",
            "81d8428713d84dbfb9ad5fa3dfed67be",
            "af1b5ce1eb2b4fbfa9c148195d925224",
            "a67528b1ac7d4fb58c3e55f3648493cd",
            "d4e42e1624c74eaf836074d140631a76",
            "f6d4fd347aa74e38b15848355ee0cee7",
            "34f42cc8e9794f2db684deb3c940d05b",
            "d0a976f59cd045d4bc3ae915a75845dc",
            "bce2a395f55c49ed9c61395f584e102f",
            "04a3955bdea843f08982ae0913cd14aa",
            "71cb383c08c74c03b5090aacc4961859",
            "9633df63096843d187a0cb3e454efebc",
            "aeab337799374642a859b64c520d2841",
            "05f563f4056540d2b74d5d3a51789bc1",
            "6b0cabfa6f794c98b628fdfe40a4d917",
            "2b0d0a26d86741598e51f0ef9a33b212",
            "0c25a875fa1d4c698db8924701daac0b",
            "bbe73b078f1a4d40bdffa0d024a6daf7",
            "0530f7cb69b6452b9e9369ef145f749a",
            "daafa0fa7dd4418095ba5e00a00f49c5",
            "c44be53a000e41a4bc73c0e9f0a11ab1",
            "0117a80d2b834629bf3b440f35ad6b31",
            "17de71fd001d426a8d96a95daca52e38",
            "3359dfae7aef43328e4892805be8f5cb",
            "2b0b7c796ff547e6a9c016a331288839",
            "4e17f5229e81461eb07e2da67837f0bd",
            "81b62363fd4e4b309a42629de2c67a5c",
            "33530c4969cb45c09106603434fc55e8",
            "0fdc8b58186c4ca4a2bfd52a7d3c2c77",
            "7f01582d7f024b8b8a9af8d9668b9d1e",
            "2104710b2aa34d9e9ab18b3d85eaeb2f",
            "de8c84345c124339b24cc05cdbde9f07",
            "25976a7b09424875a9c368186bc94711",
            "a51edc69848648948ced9905c874da46",
            "52ce56a56b274eabb8f7073f73aa9e30",
            "9629573098644be3a088dcba8c4e13e8",
            "6cdd2203fac94756ada519da46fe8608",
            "b2c27a267e99429a876cc14182ff1477",
            "397ddb0319d14a539756379cf3d37b2b",
            "8478947d2eed4475a913bff21d95354e",
            "72c4421aae5847b28f126646466a3ff5",
            "d28c0e02fa50468b87915e92dd574536",
            "10a77941823c4c8a8751e8e6bf6e8e3d",
            "8ec2f1e1048b4da0bda9c9764bd5356e",
            "5a24c8d6dceb4b6a94d19c0154315388",
            "f3fb3318813e498cb7b0cd9a4f9ba322",
            "aef42dc5438048c8b179de5672686ef5",
            "a7cf9752ea2644cd98739d9384454f55",
            "cda61a0132fb40c7bb6c35c38b032eff",
            "8f7a44a3b81f455aae1040021cb605ff",
            "f69a16ef47bd414c8ea68a0b955fae43",
            "111387bd5ee44117ab280820d01d4d40",
            "6f3a5728e1404ec29c547921fb1f5bf0",
            "015d4c46d51b4af784fd30f6aab417ba",
            "e688c197ae9446ea90d726596fe7995c",
            "5a120d9b386945c7b7038f16b07f8c59",
            "3ee8df1a8ff24677980b84cbe8463778",
            "899a12e9467549d3aaeaacf449a3bd4b",
            "5ea3499e739a4fa5893583c395d5c47b",
            "5a9c0f1084a047a8a0c1a1dd5abcb4de",
            "eb12e18b02f743c9a0aa5b55db566b8f",
            "c17a235b22ff49d3817df132fb606b1f",
            "190711d7e1854ad7891740d550471244",
            "173e03a03ca8422cbbfe557cc669f07d",
            "41d4795f17d94b75afe70c82ac620bc8",
            "667c91ebe531436e80e55d1cdba2aaaa",
            "871fd687714f4c3e8ac9c36b2b45e095",
            "11256ad487444c8892536ef2d50a3fbc",
            "08bacddeabdf48a7a7d51c34770abdb9",
            "a9209d8628f54de59ca53d4f3d0a3641",
            "21d4b6738b1640dc979c8f0c63aef49c",
            "b4f83cb7857b4f0496893dd3e607b765",
            "fedf5009d9494612b442cf396d651cf9",
            "43a67134396e4788bfc0a5f78d083857",
            "634e4f616e944a7790e8bcf77822ea68",
            "bff5cc3e15be4d0cb56e06e1dc49eb67",
            "565e983e6cf84e4fa58a45f517c0e7ce",
            "147afe970be546c88e78ab38202a86b9",
            "05bc15d225214831914ae9265b34c1c2",
            "63e7ade43b01497d93a839e8547b3042",
            "27729898dc374616b213d980d4a03b3d",
            "28bba795d1454e57bfdd68dfa2b27dc7",
            "b129293dc0244676baef7fa3f2aff135",
            "0d47cfb979fa4c8f946ad30c878cd904",
            "be1ac10b63b24dfb86dbff596b5e0bda",
            "26fe9ac218374bb18521fa127c37a58b",
            "4c323e10d95948af8ef256b42f9859ec",
            "706a013746de48748bb789b80792edc0",
            "4badf51e7afb44f2aa630c9c1d1987ed",
            "59c90649f66c472fab91b6e346e28f72",
            "692b32d5a0e8418fa86469b428429726",
            "bde01dfb8a094cdb8ad9cca5631b7973",
            "a5faa6417bac40019e842b340ea54575",
            "775b917fbfec49829db61d55eaabbe4e",
            "213e3690cfb144e6b276f4dbf6235b1e",
            "669a42396ae44bfb900fe809cd05b53d",
            "50d6586b5ceb4586b051db918b283a7f",
            "adcfba73061e4090a2bc6d06bf5fd472",
            "6546bc1e4e4a48bb80c32addfe15f46c",
            "0204a9d438434e3ca52238a27c7bad64",
            "d50a91e24e1d4ac286c1fbee631fe597",
            "9b1ca489550f422c8fbc652d5ef93d54",
            "c434e75a896444a0b9b4d57a326f1ff8",
            "6e7a78e910714b61a753d0c6e626fb82",
            "7b53015b26eb413386207ca5ce0c60a2",
            "2eb7d801cfa64fc3b0c6a67e73ec8f69",
            "a5a53233b5d4443ebe6d150b8059cb90",
            "c10ef9ffe8c04412851db4dd52867c87",
            "7e51e8a46d584defaec7074f7e4ef5fe",
            "e5c12d2d6af34e6a954581518e359536",
            "df653e98a79f485baa04d06d5206d000",
            "dcac69b6ee9547bf81c94313577eb846",
            "728a41ee85ab47148db34bf45e5e925a",
            "332b4d03f7394f4ca6b7285742148406",
            "7e187c1028e84875ae39bb687b47353a",
            "fac98e3c148a4164bf04956be94557c1",
            "49cab5a32c7445bd922a7d3b6f06b634",
            "06035dbd761341548a922e02c05aa28f",
            "af5643bedbed4dec8034e70c117b9fd8",
            "ab7ffbfc734a424684ed75e46f39e1b8",
            "9222e5471b7f45689e4fd41ce1c4f1e7",
            "9d27f411cdfc41cf8a095205235de0af",
            "d61224a0ef0d4755b315109f02ef4417",
            "1b4a1bf0bc944ab0bf0eb5c6a3e57575",
            "33fd20a614ce45b6a313510fd9beb64e",
            "a00f61341b4e42bcaf553154ee2b02e1",
            "8a363c37115c424f911dcafbb0511f72",
            "de9d603d7b5b4a1e8579e6768865a064",
            "7138dd67952e40149d4f85935bb75392",
            "391c4e28ace34fefa6afc0dea913a6cf",
            "ef1f121f6bde460eb07dfb15ac2c8458",
            "aba6ec5bcd144c9aaaaf4b48fb92c632",
            "b408f85ca2f644c699c6f8c73ac03053",
            "be4f21bdbdfb49938544aaa560d94a9f",
            "bbd79d378b0f4358976355a553a3ab7b",
            "a2bd77625fa54ebab0e3bc52c6fd2fad",
            "4884434661f84733bd4a86bea056587a",
            "2838e00ad3474ef1970d035110cf37ed",
            "43e40d8b198c4b8da8653b36f22efe5c",
            "c388b25f97ad45aea535c2af6b00d99c",
            "e4b97487aec846d2b9259fa01545f3c6",
            "339e91c01f1d46118f6bb7127c9c6d3f",
            "520659f30c604fb6bb6b648c2178ab0c",
            "6aa13c1c98e64e0d9b9d68bea97f89fd",
            "bd19ff4580db4fcd852e3e9d3454a032",
            "0744bac59f2747539b1e25086655b648",
            "a0f675d0ea9c40f388d48ba8fba92219",
            "cd7a8bf9e5e749f695e2931d675f2263",
            "301b0e21ab1f4574b0144537f51ff1c8",
            "140a9a01a7854a7eb875e26b7fed5768",
            "b5f37922296743878a22e673d6875f57",
            "7991cedde79f4a4b9ef0f167c4110b20",
            "4fb20a1fe0084fe382dd9fd63491cb6b",
            "77ec969f3e9b4792889d2da5140b85b4",
            "3dfae11ee6e544a38c905866354f4846",
            "d930f7f060af4e76af94f766e98d2141",
            "b75282afe6bd47268e688d8ae4e5adfc",
            "f7cfdd6c23d4414494ca1f773fb81272",
            "aa4883482f7a4d88a7f347195719b67b",
            "9f650cf862ce4d1db9faa7b69f26cdb4",
            "7673da52c764414687420db49f6bc805",
            "b9e9f1d17db9401b899b87306c87fcef",
            "870ff601d5f64026824a432875596329",
            "4cdb86aa50c648d38ade6b4cc023ea59",
            "2737771b05084e10959ede2eba6dcc75",
            "1e597d39b3de4b038d248de132f7d908",
            "c51df3cb81394972a4af95f7a2d5b5f3",
            "375d734c8ed7467d9cb03dcfcd7dd437",
            "d3ccbc421da94ef2ba6a8242af9bc6bb",
            "b03d4788f45248a6b99126064d864656",
            "04d6f0967e8d46579975eb38984ea115",
            "ccde2fa0e7d74fa0a89c5b556e2f95c3",
            "76b8225c6df849e5abf967396c89a4db",
            "846bec81a03f487bb921aa554d482005",
            "b17e261432794553a104ef5bc7a020af",
            "23667881915041eabf4b149074702af6",
            "f6fe6ee76d8747068baf533e60054c28",
            "d0c5ad289fa14aa1869d6dc9de40b315"
          ]
        },
        "id": "YdnltiBTqOGS",
        "outputId": "0118c059-b55a-4077-ed60-046207a171de"
      },
      "execution_count": null,
      "outputs": [
        {
          "output_type": "stream",
          "name": "stdout",
          "text": [
            "🔹 Loading DeepSeek ...\n"
          ]
        },
        {
          "output_type": "display_data",
          "data": {
            "text/plain": [
              "tokenizer_config.json: 0.00B [00:00, ?B/s]"
            ],
            "application/vnd.jupyter.widget-view+json": {
              "version_major": 2,
              "version_minor": 0,
              "model_id": "03a602c64bdd44c0b952a2dc3ed22543"
            }
          },
          "metadata": {
            "application/vnd.jupyter.widget-view+json": {
              "colab": {
                "custom_widget_manager": {
                  "url": "https://ssl.gstatic.com/colaboratory-static/widgets/colab-cdn-widget-manager/2b70e893a8ba7c0f/manager.min.js"
                }
              }
            }
          }
        },
        {
          "output_type": "display_data",
          "data": {
            "text/plain": [
              "tokenizer.json: 0.00B [00:00, ?B/s]"
            ],
            "application/vnd.jupyter.widget-view+json": {
              "version_major": 2,
              "version_minor": 0,
              "model_id": "d24b149ebd6441529545134863a68f85"
            }
          },
          "metadata": {
            "application/vnd.jupyter.widget-view+json": {
              "colab": {
                "custom_widget_manager": {
                  "url": "https://ssl.gstatic.com/colaboratory-static/widgets/colab-cdn-widget-manager/2b70e893a8ba7c0f/manager.min.js"
                }
              }
            }
          }
        },
        {
          "output_type": "display_data",
          "data": {
            "text/plain": [
              "config.json:   0%|          | 0.00/631 [00:00<?, ?B/s]"
            ],
            "application/vnd.jupyter.widget-view+json": {
              "version_major": 2,
              "version_minor": 0,
              "model_id": "02bf325e7152411ebfe99f29e2bd6a6f"
            }
          },
          "metadata": {
            "application/vnd.jupyter.widget-view+json": {
              "colab": {
                "custom_widget_manager": {
                  "url": "https://ssl.gstatic.com/colaboratory-static/widgets/colab-cdn-widget-manager/2b70e893a8ba7c0f/manager.min.js"
                }
              }
            }
          }
        },
        {
          "output_type": "stream",
          "name": "stderr",
          "text": [
            "`torch_dtype` is deprecated! Use `dtype` instead!\n"
          ]
        },
        {
          "output_type": "display_data",
          "data": {
            "text/plain": [
              "model.safetensors:   0%|          | 0.00/2.69G [00:00<?, ?B/s]"
            ],
            "application/vnd.jupyter.widget-view+json": {
              "version_major": 2,
              "version_minor": 0,
              "model_id": "05ddf59ce4b84acab0f93250c383f9ae"
            }
          },
          "metadata": {
            "application/vnd.jupyter.widget-view+json": {
              "colab": {
                "custom_widget_manager": {
                  "url": "https://ssl.gstatic.com/colaboratory-static/widgets/colab-cdn-widget-manager/2b70e893a8ba7c0f/manager.min.js"
                }
              }
            }
          }
        },
        {
          "output_type": "display_data",
          "data": {
            "text/plain": [
              "generation_config.json:   0%|          | 0.00/119 [00:00<?, ?B/s]"
            ],
            "application/vnd.jupyter.widget-view+json": {
              "version_major": 2,
              "version_minor": 0,
              "model_id": "6d5a86f285204f0e96998846b926dadd"
            }
          },
          "metadata": {
            "application/vnd.jupyter.widget-view+json": {
              "colab": {
                "custom_widget_manager": {
                  "url": "https://ssl.gstatic.com/colaboratory-static/widgets/colab-cdn-widget-manager/2b70e893a8ba7c0f/manager.min.js"
                }
              }
            }
          }
        },
        {
          "output_type": "stream",
          "name": "stdout",
          "text": [
            "🔹 Loading Phi-2 ...\n"
          ]
        },
        {
          "output_type": "display_data",
          "data": {
            "text/plain": [
              "tokenizer_config.json: 0.00B [00:00, ?B/s]"
            ],
            "application/vnd.jupyter.widget-view+json": {
              "version_major": 2,
              "version_minor": 0,
              "model_id": "5e0a953a70364782afbdd66651f46a32"
            }
          },
          "metadata": {
            "application/vnd.jupyter.widget-view+json": {
              "colab": {
                "custom_widget_manager": {
                  "url": "https://ssl.gstatic.com/colaboratory-static/widgets/colab-cdn-widget-manager/2b70e893a8ba7c0f/manager.min.js"
                }
              }
            }
          }
        },
        {
          "output_type": "display_data",
          "data": {
            "text/plain": [
              "vocab.json: 0.00B [00:00, ?B/s]"
            ],
            "application/vnd.jupyter.widget-view+json": {
              "version_major": 2,
              "version_minor": 0,
              "model_id": "5d0ff0805d364f66b1dac751eccc6e67"
            }
          },
          "metadata": {
            "application/vnd.jupyter.widget-view+json": {
              "colab": {
                "custom_widget_manager": {
                  "url": "https://ssl.gstatic.com/colaboratory-static/widgets/colab-cdn-widget-manager/2b70e893a8ba7c0f/manager.min.js"
                }
              }
            }
          }
        },
        {
          "output_type": "display_data",
          "data": {
            "text/plain": [
              "merges.txt: 0.00B [00:00, ?B/s]"
            ],
            "application/vnd.jupyter.widget-view+json": {
              "version_major": 2,
              "version_minor": 0,
              "model_id": "afebfc698b904fd3a7c7977f26416f6a"
            }
          },
          "metadata": {
            "application/vnd.jupyter.widget-view+json": {
              "colab": {
                "custom_widget_manager": {
                  "url": "https://ssl.gstatic.com/colaboratory-static/widgets/colab-cdn-widget-manager/2b70e893a8ba7c0f/manager.min.js"
                }
              }
            }
          }
        },
        {
          "output_type": "display_data",
          "data": {
            "text/plain": [
              "tokenizer.json: 0.00B [00:00, ?B/s]"
            ],
            "application/vnd.jupyter.widget-view+json": {
              "version_major": 2,
              "version_minor": 0,
              "model_id": "47f0f6449e144b708f584d9b5908582e"
            }
          },
          "metadata": {
            "application/vnd.jupyter.widget-view+json": {
              "colab": {
                "custom_widget_manager": {
                  "url": "https://ssl.gstatic.com/colaboratory-static/widgets/colab-cdn-widget-manager/2b70e893a8ba7c0f/manager.min.js"
                }
              }
            }
          }
        },
        {
          "output_type": "display_data",
          "data": {
            "text/plain": [
              "added_tokens.json: 0.00B [00:00, ?B/s]"
            ],
            "application/vnd.jupyter.widget-view+json": {
              "version_major": 2,
              "version_minor": 0,
              "model_id": "5cde9d9b98234a65b2c520026887336e"
            }
          },
          "metadata": {
            "application/vnd.jupyter.widget-view+json": {
              "colab": {
                "custom_widget_manager": {
                  "url": "https://ssl.gstatic.com/colaboratory-static/widgets/colab-cdn-widget-manager/2b70e893a8ba7c0f/manager.min.js"
                }
              }
            }
          }
        },
        {
          "output_type": "display_data",
          "data": {
            "text/plain": [
              "special_tokens_map.json:   0%|          | 0.00/99.0 [00:00<?, ?B/s]"
            ],
            "application/vnd.jupyter.widget-view+json": {
              "version_major": 2,
              "version_minor": 0,
              "model_id": "b3a0e8b0888a45e28d9e96598ff56d98"
            }
          },
          "metadata": {
            "application/vnd.jupyter.widget-view+json": {
              "colab": {
                "custom_widget_manager": {
                  "url": "https://ssl.gstatic.com/colaboratory-static/widgets/colab-cdn-widget-manager/2b70e893a8ba7c0f/manager.min.js"
                }
              }
            }
          }
        },
        {
          "output_type": "display_data",
          "data": {
            "text/plain": [
              "config.json:   0%|          | 0.00/735 [00:00<?, ?B/s]"
            ],
            "application/vnd.jupyter.widget-view+json": {
              "version_major": 2,
              "version_minor": 0,
              "model_id": "a0eb6512a1f84c06b752e57e82d3af60"
            }
          },
          "metadata": {
            "application/vnd.jupyter.widget-view+json": {
              "colab": {
                "custom_widget_manager": {
                  "url": "https://ssl.gstatic.com/colaboratory-static/widgets/colab-cdn-widget-manager/2b70e893a8ba7c0f/manager.min.js"
                }
              }
            }
          }
        },
        {
          "output_type": "display_data",
          "data": {
            "text/plain": [
              "model.safetensors.index.json: 0.00B [00:00, ?B/s]"
            ],
            "application/vnd.jupyter.widget-view+json": {
              "version_major": 2,
              "version_minor": 0,
              "model_id": "81d8428713d84dbfb9ad5fa3dfed67be"
            }
          },
          "metadata": {
            "application/vnd.jupyter.widget-view+json": {
              "colab": {
                "custom_widget_manager": {
                  "url": "https://ssl.gstatic.com/colaboratory-static/widgets/colab-cdn-widget-manager/2b70e893a8ba7c0f/manager.min.js"
                }
              }
            }
          }
        },
        {
          "output_type": "display_data",
          "data": {
            "text/plain": [
              "Fetching 2 files:   0%|          | 0/2 [00:00<?, ?it/s]"
            ],
            "application/vnd.jupyter.widget-view+json": {
              "version_major": 2,
              "version_minor": 0,
              "model_id": "aeab337799374642a859b64c520d2841"
            }
          },
          "metadata": {
            "application/vnd.jupyter.widget-view+json": {
              "colab": {
                "custom_widget_manager": {
                  "url": "https://ssl.gstatic.com/colaboratory-static/widgets/colab-cdn-widget-manager/2b70e893a8ba7c0f/manager.min.js"
                }
              }
            }
          }
        },
        {
          "output_type": "display_data",
          "data": {
            "text/plain": [
              "model-00002-of-00002.safetensors:   0%|          | 0.00/564M [00:00<?, ?B/s]"
            ],
            "application/vnd.jupyter.widget-view+json": {
              "version_major": 2,
              "version_minor": 0,
              "model_id": "3359dfae7aef43328e4892805be8f5cb"
            }
          },
          "metadata": {}
        },
        {
          "output_type": "display_data",
          "data": {
            "text/plain": [
              "model-00001-of-00002.safetensors:   0%|          | 0.00/5.00G [00:00<?, ?B/s]"
            ],
            "application/vnd.jupyter.widget-view+json": {
              "version_major": 2,
              "version_minor": 0,
              "model_id": "2b0b7c796ff547e6a9c016a331288839"
            }
          },
          "metadata": {}
        },
        {
          "output_type": "display_data",
          "data": {
            "text/plain": [
              "Loading checkpoint shards:   0%|          | 0/2 [00:00<?, ?it/s]"
            ],
            "application/vnd.jupyter.widget-view+json": {
              "version_major": 2,
              "version_minor": 0,
              "model_id": "9629573098644be3a088dcba8c4e13e8"
            }
          },
          "metadata": {
            "application/vnd.jupyter.widget-view+json": {
              "colab": {
                "custom_widget_manager": {
                  "url": "https://ssl.gstatic.com/colaboratory-static/widgets/colab-cdn-widget-manager/2b70e893a8ba7c0f/manager.min.js"
                }
              }
            }
          }
        },
        {
          "output_type": "display_data",
          "data": {
            "text/plain": [
              "generation_config.json:   0%|          | 0.00/124 [00:00<?, ?B/s]"
            ],
            "application/vnd.jupyter.widget-view+json": {
              "version_major": 2,
              "version_minor": 0,
              "model_id": "3ee8df1a8ff24677980b84cbe8463778"
            }
          },
          "metadata": {
            "application/vnd.jupyter.widget-view+json": {
              "colab": {
                "custom_widget_manager": {
                  "url": "https://ssl.gstatic.com/colaboratory-static/widgets/colab-cdn-widget-manager/2b70e893a8ba7c0f/manager.min.js"
                }
              }
            }
          }
        },
        {
          "output_type": "stream",
          "name": "stdout",
          "text": [
            "🔹 Loading Gemma ...\n"
          ]
        },
        {
          "output_type": "display_data",
          "data": {
            "text/plain": [
              "tokenizer_config.json:   0%|          | 0.00/34.2k [00:00<?, ?B/s]"
            ],
            "application/vnd.jupyter.widget-view+json": {
              "version_major": 2,
              "version_minor": 0,
              "model_id": "11256ad487444c8892536ef2d50a3fbc"
            }
          },
          "metadata": {
            "application/vnd.jupyter.widget-view+json": {
              "colab": {
                "custom_widget_manager": {
                  "url": "https://ssl.gstatic.com/colaboratory-static/widgets/colab-cdn-widget-manager/2b70e893a8ba7c0f/manager.min.js"
                }
              }
            }
          }
        },
        {
          "output_type": "display_data",
          "data": {
            "text/plain": [
              "tokenizer.model:   0%|          | 0.00/4.24M [00:00<?, ?B/s]"
            ],
            "application/vnd.jupyter.widget-view+json": {
              "version_major": 2,
              "version_minor": 0,
              "model_id": "05bc15d225214831914ae9265b34c1c2"
            }
          },
          "metadata": {
            "application/vnd.jupyter.widget-view+json": {
              "colab": {
                "custom_widget_manager": {
                  "url": "https://ssl.gstatic.com/colaboratory-static/widgets/colab-cdn-widget-manager/2b70e893a8ba7c0f/manager.min.js"
                }
              }
            }
          }
        },
        {
          "output_type": "display_data",
          "data": {
            "text/plain": [
              "tokenizer.json:   0%|          | 0.00/17.5M [00:00<?, ?B/s]"
            ],
            "application/vnd.jupyter.widget-view+json": {
              "version_major": 2,
              "version_minor": 0,
              "model_id": "59c90649f66c472fab91b6e346e28f72"
            }
          },
          "metadata": {
            "application/vnd.jupyter.widget-view+json": {
              "colab": {
                "custom_widget_manager": {
                  "url": "https://ssl.gstatic.com/colaboratory-static/widgets/colab-cdn-widget-manager/2b70e893a8ba7c0f/manager.min.js"
                }
              }
            }
          }
        },
        {
          "output_type": "display_data",
          "data": {
            "text/plain": [
              "special_tokens_map.json:   0%|          | 0.00/636 [00:00<?, ?B/s]"
            ],
            "application/vnd.jupyter.widget-view+json": {
              "version_major": 2,
              "version_minor": 0,
              "model_id": "d50a91e24e1d4ac286c1fbee631fe597"
            }
          },
          "metadata": {
            "application/vnd.jupyter.widget-view+json": {
              "colab": {
                "custom_widget_manager": {
                  "url": "https://ssl.gstatic.com/colaboratory-static/widgets/colab-cdn-widget-manager/2b70e893a8ba7c0f/manager.min.js"
                }
              }
            }
          }
        },
        {
          "output_type": "display_data",
          "data": {
            "text/plain": [
              "config.json:   0%|          | 0.00/627 [00:00<?, ?B/s]"
            ],
            "application/vnd.jupyter.widget-view+json": {
              "version_major": 2,
              "version_minor": 0,
              "model_id": "dcac69b6ee9547bf81c94313577eb846"
            }
          },
          "metadata": {
            "application/vnd.jupyter.widget-view+json": {
              "colab": {
                "custom_widget_manager": {
                  "url": "https://ssl.gstatic.com/colaboratory-static/widgets/colab-cdn-widget-manager/2b70e893a8ba7c0f/manager.min.js"
                }
              }
            }
          }
        },
        {
          "output_type": "display_data",
          "data": {
            "text/plain": [
              "model.safetensors.index.json:   0%|          | 0.00/13.5k [00:00<?, ?B/s]"
            ],
            "application/vnd.jupyter.widget-view+json": {
              "version_major": 2,
              "version_minor": 0,
              "model_id": "d61224a0ef0d4755b315109f02ef4417"
            }
          },
          "metadata": {
            "application/vnd.jupyter.widget-view+json": {
              "colab": {
                "custom_widget_manager": {
                  "url": "https://ssl.gstatic.com/colaboratory-static/widgets/colab-cdn-widget-manager/2b70e893a8ba7c0f/manager.min.js"
                }
              }
            }
          }
        },
        {
          "output_type": "display_data",
          "data": {
            "text/plain": [
              "Fetching 2 files:   0%|          | 0/2 [00:00<?, ?it/s]"
            ],
            "application/vnd.jupyter.widget-view+json": {
              "version_major": 2,
              "version_minor": 0,
              "model_id": "be4f21bdbdfb49938544aaa560d94a9f"
            }
          },
          "metadata": {
            "application/vnd.jupyter.widget-view+json": {
              "colab": {
                "custom_widget_manager": {
                  "url": "https://ssl.gstatic.com/colaboratory-static/widgets/colab-cdn-widget-manager/2b70e893a8ba7c0f/manager.min.js"
                }
              }
            }
          }
        },
        {
          "output_type": "display_data",
          "data": {
            "text/plain": [
              "model-00001-of-00002.safetensors:   0%|          | 0.00/4.95G [00:00<?, ?B/s]"
            ],
            "application/vnd.jupyter.widget-view+json": {
              "version_major": 2,
              "version_minor": 0,
              "model_id": "bd19ff4580db4fcd852e3e9d3454a032"
            }
          },
          "metadata": {}
        },
        {
          "output_type": "display_data",
          "data": {
            "text/plain": [
              "model-00002-of-00002.safetensors:   0%|          | 0.00/67.1M [00:00<?, ?B/s]"
            ],
            "application/vnd.jupyter.widget-view+json": {
              "version_major": 2,
              "version_minor": 0,
              "model_id": "0744bac59f2747539b1e25086655b648"
            }
          },
          "metadata": {}
        },
        {
          "output_type": "display_data",
          "data": {
            "text/plain": [
              "Loading checkpoint shards:   0%|          | 0/2 [00:00<?, ?it/s]"
            ],
            "application/vnd.jupyter.widget-view+json": {
              "version_major": 2,
              "version_minor": 0,
              "model_id": "b75282afe6bd47268e688d8ae4e5adfc"
            }
          },
          "metadata": {
            "application/vnd.jupyter.widget-view+json": {
              "colab": {
                "custom_widget_manager": {
                  "url": "https://ssl.gstatic.com/colaboratory-static/widgets/colab-cdn-widget-manager/2b70e893a8ba7c0f/manager.min.js"
                }
              }
            }
          }
        },
        {
          "output_type": "display_data",
          "data": {
            "text/plain": [
              "generation_config.json:   0%|          | 0.00/137 [00:00<?, ?B/s]"
            ],
            "application/vnd.jupyter.widget-view+json": {
              "version_major": 2,
              "version_minor": 0,
              "model_id": "d0c5ad289fa14aa1869d6dc9de40b315"
            }
          },
          "metadata": {
            "application/vnd.jupyter.widget-view+json": {
              "colab": {
                "custom_widget_manager": {
                  "url": "https://ssl.gstatic.com/colaboratory-static/widgets/colab-cdn-widget-manager/2b70e893a8ba7c0f/manager.min.js"
                }
              }
            }
          }
        },
        {
          "output_type": "stream",
          "name": "stdout",
          "text": [
            "✅ All models loaded successfully!\n"
          ]
        }
      ]
    },
    {
      "cell_type": "code",
      "source": [
        "prompt = \"Write a Python function to reverse a string.\"\n",
        "model_name = \"DeepSeek\"\n",
        "\n",
        "inputs = tokenizers[model_name](prompt, return_tensors=\"pt\").to(device)\n",
        "outputs = model_objects[model_name].generate(**inputs, max_new_tokens=100)\n",
        "\n",
        "print(tokenizers[model_name].decode(outputs[0], skip_special_tokens=True))\n"
      ],
      "metadata": {
        "colab": {
          "base_uri": "https://localhost:8080/"
        },
        "id": "tyGhcNTuqOJx",
        "outputId": "8420cdff-498c-45fe-f208-33258a6f1eef"
      },
      "execution_count": null,
      "outputs": [
        {
          "output_type": "stream",
          "name": "stderr",
          "text": [
            "Setting `pad_token_id` to `eos_token_id`:32021 for open-end generation.\n"
          ]
        },
        {
          "output_type": "stream",
          "name": "stdout",
          "text": [
            "Write a Python function to reverse a string.\n",
            "\n",
            "\n",
            "def reverse_string(s):\n",
            "    return s[::-1]\n",
            "\n",
            "print(reverse_string(\"Hello, World!\"))\n",
            "\n",
            "# Output: \"!dlroW ,olleH\"\n",
            "\n",
            "# This function uses Python's slicing feature to reverse the string. The [::-1] slice means start at the end of the string and end at position 0, move with the step -1 (which means one step backwards).\n"
          ]
        }
      ]
    },
    {
      "cell_type": "code",
      "source": [
        "# ==============================\n",
        "# 🔹 STEP 2 (Final Fixed Version)\n",
        "# ==============================\n",
        "\n",
        "import re, unicodedata, string, pandas as pd\n",
        "from radon.complexity import cc_visit\n",
        "from radon.metrics import mi_visit, mi_rank\n",
        "from radon.raw import analyze\n",
        "\n",
        "# ----------- 1️⃣  CLEAN CODE OUTPUT -----------\n",
        "def clean_code_output(raw_text):\n",
        "    \"\"\"Extract and sanitize Python code from model output.\"\"\"\n",
        "    # Extract code from markdown if present\n",
        "    code_blocks = re.findall(r\"```(?:python)?(.*?)```\", raw_text, re.DOTALL)\n",
        "    code = code_blocks[0] if code_blocks else raw_text\n",
        "\n",
        "    # Normalize and strip non-printable / invisible chars\n",
        "    code = unicodedata.normalize(\"NFKC\", code)\n",
        "    code = \"\".join(ch for ch in code if ch in string.printable)\n",
        "    code = re.sub(r'[^\\x00-\\x7F]+', ' ', code)  # ASCII only\n",
        "\n",
        "    # Remove explanations before real code\n",
        "    match = re.search(r\"(def |import |class )\", code)\n",
        "    if match:\n",
        "        code = code[match.start():]\n",
        "\n",
        "    # Fix incomplete parentheses/brackets if truncated\n",
        "    open_paren = code.count(\"(\")\n",
        "    close_paren = code.count(\")\")\n",
        "    if open_paren > close_paren:\n",
        "        code += \")\" * (open_paren - close_paren)\n",
        "\n",
        "    open_brack = code.count(\"[\")\n",
        "    close_brack = code.count(\"]\")\n",
        "    if open_brack > close_brack:\n",
        "        code += \"]\" * (open_brack - close_brack)\n",
        "\n",
        "    open_brace = code.count(\"{\")\n",
        "    close_brace = code.count(\"}\")\n",
        "    if open_brace > close_brace:\n",
        "        code += \"}\" * (open_brace - close_brace)\n",
        "\n",
        "    # Collapse extra newlines and trim\n",
        "    code = re.sub(r\"\\n{3,}\", \"\\n\\n\", code)\n",
        "    return code.strip()\n",
        "\n",
        "# ----------- 2️⃣  EVALUATE CODE -----------\n",
        "def evaluate_code(code):\n",
        "    \"\"\"Safely evaluate code metrics using radon.\"\"\"\n",
        "    try:\n",
        "        compile(code, \"<string>\", \"exec\")  # syntax validation\n",
        "    except Exception as e:\n",
        "        return {\"error\": f\"Invalid code: {e}\"}\n",
        "\n",
        "    try:\n",
        "        complexity_data = cc_visit(code)\n",
        "        avg_complexity = (\n",
        "            sum(block.complexity for block in complexity_data) / len(complexity_data)\n",
        "            if complexity_data else 0\n",
        "        )\n",
        "        maintainability_index = mi_visit(code, True)\n",
        "        mi_grade = mi_rank(maintainability_index)\n",
        "        raw_metrics = analyze(code)\n",
        "        loc = raw_metrics.loc\n",
        "\n",
        "        return {\n",
        "            \"avg_complexity\": round(avg_complexity, 2),\n",
        "            \"maintainability_index\": round(maintainability_index, 2),\n",
        "            \"mi_grade\": mi_grade,\n",
        "            \"loc\": loc\n",
        "        }\n",
        "    except Exception as e:\n",
        "        return {\"error\": str(e)}\n",
        "\n",
        "# ----------- 3️⃣  GENERATE CODE FUNCTION -----------\n",
        "def generate_code(model_name, prompt, max_tokens=400):\n",
        "    tokenizer = tokenizers[model_name]\n",
        "    model = model_objects[model_name]\n",
        "    inputs = tokenizer(prompt, return_tensors=\"pt\").to(device)\n",
        "    with torch.no_grad():\n",
        "        outputs = model.generate(**inputs, max_new_tokens=max_tokens)\n",
        "    return tokenizer.decode(outputs[0], skip_special_tokens=True)\n",
        "\n",
        "# ----------- 4️⃣  RUN ALL THREE MODELS -----------\n",
        "prompt = \"Write a complete Python function to check if a number is prime or not, including test cases.\"\n",
        "\n",
        "results = {}\n",
        "for model_name in models.keys():\n",
        "    print(f\"\\n🚀 Generating code using {model_name} ...\")\n",
        "    raw_code = generate_code(model_name, prompt, max_tokens=400)\n",
        "    clean_code = clean_code_output(raw_code)\n",
        "\n",
        "    print(f\"\\n--- {model_name} Generated Code ---\\n\")\n",
        "    print(clean_code[:400], \"...\\n\")\n",
        "\n",
        "    metrics = evaluate_code(clean_code)\n",
        "    results[model_name] = {\"code\": clean_code, \"metrics\": metrics}\n",
        "\n",
        "print(\"\\n✅ Code generation and evaluation completed successfully!\")\n",
        "\n",
        "# ----------- 5️⃣  DISPLAY RESULTS IN TABLE -----------\n",
        "df = pd.DataFrame({\n",
        "    m: res[\"metrics\"] for m, res in results.items()\n",
        "}).T\n",
        "\n",
        "display(df)\n"
      ],
      "metadata": {
        "colab": {
          "base_uri": "https://localhost:8080/",
          "height": 1000
        },
        "id": "D8OyvBhNv8I0",
        "outputId": "b17e14c1-b990-4daa-914d-54139f8eb231"
      },
      "execution_count": null,
      "outputs": [
        {
          "output_type": "stream",
          "name": "stderr",
          "text": [
            "Setting `pad_token_id` to `eos_token_id`:32021 for open-end generation.\n"
          ]
        },
        {
          "output_type": "stream",
          "name": "stdout",
          "text": [
            "\n",
            "🚀 Generating code using DeepSeek ...\n"
          ]
        },
        {
          "output_type": "stream",
          "name": "stderr",
          "text": [
            "Setting `pad_token_id` to `eos_token_id`:50256 for open-end generation.\n"
          ]
        },
        {
          "output_type": "stream",
          "name": "stdout",
          "text": [
            "\n",
            "--- DeepSeek Generated Code ---\n",
            "\n",
            "def is_prime(n):\n",
            "    if n <= 1:\n",
            "        return False\n",
            "    elif n <= 3:\n",
            "        return True\n",
            "    elif n % 2 == 0 or n % 3 == 0:\n",
            "        return False\n",
            "    i = 5\n",
            "    while i * i <= n:\n",
            "        if n % i == 0 or n % (i + 2) == 0:\n",
            "            return False\n",
            "        i += 6\n",
            "    return True\n",
            "\n",
            "# Test cases\n",
            "print(is_prime(2))  # True\n",
            "print(is_prime(4))  # False\n",
            "print(is_prime(9))  # False\n",
            "print(is_prime(13))  # Tru ...\n",
            "\n",
            "\n",
            "🚀 Generating code using Phi-2 ...\n",
            "\n",
            "--- Phi-2 Generated Code ---\n",
            "\n",
            "def is_prime(n):\n",
            "    if n <= 1:\n",
            "        return False\n",
            "    for i in range(2, n):\n",
            "        if n % i == 0:\n",
            "            return False\n",
            "    return True\n",
            "\n",
            "print(is_prime(2))  # True\n",
            "print(is_prime(4))  # False\n",
            "print(is_prime(17))  # True ...\n",
            "\n",
            "\n",
            "🚀 Generating code using Gemma ...\n",
            "\n",
            "--- Gemma Generated Code ---\n",
            "\n",
            "def is_prime(n):\n",
            "  \"\"\"\n",
            "  Checks if a number is prime or not.\n",
            "\n",
            "  Args:\n",
            "    n: The number to check.\n",
            "\n",
            "  Returns:\n",
            "    True if n is prime, False otherwise.\n",
            "  \"\"\"\n",
            "\n",
            "  # If n is less than 2, it is not a prime number.\n",
            "  if n <= 1:\n",
            "    return False\n",
            "\n",
            "  # Iterate from 2 to the square root of n.\n",
            "  for i in range(2, int(n**0.5) + 1):\n",
            "    # If there is a divisor, it is not a prime number.\n",
            "    if n % i == 0:\n",
            "     ...\n",
            "\n",
            "\n",
            "✅ Code generation and evaluation completed successfully!\n"
          ]
        },
        {
          "output_type": "display_data",
          "data": {
            "text/plain": [
              "         avg_complexity maintainability_index mi_grade loc\n",
              "DeepSeek            8.0                 79.99        A  30\n",
              "Phi-2               4.0                 94.13        A  11\n",
              "Gemma               4.0                 81.32        A  30"
            ],
            "text/html": [
              "\n",
              "  <div id=\"df-ec0cdd7d-4e07-4554-a950-064d828ec46f\" class=\"colab-df-container\">\n",
              "    <div>\n",
              "<style scoped>\n",
              "    .dataframe tbody tr th:only-of-type {\n",
              "        vertical-align: middle;\n",
              "    }\n",
              "\n",
              "    .dataframe tbody tr th {\n",
              "        vertical-align: top;\n",
              "    }\n",
              "\n",
              "    .dataframe thead th {\n",
              "        text-align: right;\n",
              "    }\n",
              "</style>\n",
              "<table border=\"1\" class=\"dataframe\">\n",
              "  <thead>\n",
              "    <tr style=\"text-align: right;\">\n",
              "      <th></th>\n",
              "      <th>avg_complexity</th>\n",
              "      <th>maintainability_index</th>\n",
              "      <th>mi_grade</th>\n",
              "      <th>loc</th>\n",
              "    </tr>\n",
              "  </thead>\n",
              "  <tbody>\n",
              "    <tr>\n",
              "      <th>DeepSeek</th>\n",
              "      <td>8.0</td>\n",
              "      <td>79.99</td>\n",
              "      <td>A</td>\n",
              "      <td>30</td>\n",
              "    </tr>\n",
              "    <tr>\n",
              "      <th>Phi-2</th>\n",
              "      <td>4.0</td>\n",
              "      <td>94.13</td>\n",
              "      <td>A</td>\n",
              "      <td>11</td>\n",
              "    </tr>\n",
              "    <tr>\n",
              "      <th>Gemma</th>\n",
              "      <td>4.0</td>\n",
              "      <td>81.32</td>\n",
              "      <td>A</td>\n",
              "      <td>30</td>\n",
              "    </tr>\n",
              "  </tbody>\n",
              "</table>\n",
              "</div>\n",
              "    <div class=\"colab-df-buttons\">\n",
              "\n",
              "  <div class=\"colab-df-container\">\n",
              "    <button class=\"colab-df-convert\" onclick=\"convertToInteractive('df-ec0cdd7d-4e07-4554-a950-064d828ec46f')\"\n",
              "            title=\"Convert this dataframe to an interactive table.\"\n",
              "            style=\"display:none;\">\n",
              "\n",
              "  <svg xmlns=\"http://www.w3.org/2000/svg\" height=\"24px\" viewBox=\"0 -960 960 960\">\n",
              "    <path d=\"M120-120v-720h720v720H120Zm60-500h600v-160H180v160Zm220 220h160v-160H400v160Zm0 220h160v-160H400v160ZM180-400h160v-160H180v160Zm440 0h160v-160H620v160ZM180-180h160v-160H180v160Zm440 0h160v-160H620v160Z\"/>\n",
              "  </svg>\n",
              "    </button>\n",
              "\n",
              "  <style>\n",
              "    .colab-df-container {\n",
              "      display:flex;\n",
              "      gap: 12px;\n",
              "    }\n",
              "\n",
              "    .colab-df-convert {\n",
              "      background-color: #E8F0FE;\n",
              "      border: none;\n",
              "      border-radius: 50%;\n",
              "      cursor: pointer;\n",
              "      display: none;\n",
              "      fill: #1967D2;\n",
              "      height: 32px;\n",
              "      padding: 0 0 0 0;\n",
              "      width: 32px;\n",
              "    }\n",
              "\n",
              "    .colab-df-convert:hover {\n",
              "      background-color: #E2EBFA;\n",
              "      box-shadow: 0px 1px 2px rgba(60, 64, 67, 0.3), 0px 1px 3px 1px rgba(60, 64, 67, 0.15);\n",
              "      fill: #174EA6;\n",
              "    }\n",
              "\n",
              "    .colab-df-buttons div {\n",
              "      margin-bottom: 4px;\n",
              "    }\n",
              "\n",
              "    [theme=dark] .colab-df-convert {\n",
              "      background-color: #3B4455;\n",
              "      fill: #D2E3FC;\n",
              "    }\n",
              "\n",
              "    [theme=dark] .colab-df-convert:hover {\n",
              "      background-color: #434B5C;\n",
              "      box-shadow: 0px 1px 3px 1px rgba(0, 0, 0, 0.15);\n",
              "      filter: drop-shadow(0px 1px 2px rgba(0, 0, 0, 0.3));\n",
              "      fill: #FFFFFF;\n",
              "    }\n",
              "  </style>\n",
              "\n",
              "    <script>\n",
              "      const buttonEl =\n",
              "        document.querySelector('#df-ec0cdd7d-4e07-4554-a950-064d828ec46f button.colab-df-convert');\n",
              "      buttonEl.style.display =\n",
              "        google.colab.kernel.accessAllowed ? 'block' : 'none';\n",
              "\n",
              "      async function convertToInteractive(key) {\n",
              "        const element = document.querySelector('#df-ec0cdd7d-4e07-4554-a950-064d828ec46f');\n",
              "        const dataTable =\n",
              "          await google.colab.kernel.invokeFunction('convertToInteractive',\n",
              "                                                    [key], {});\n",
              "        if (!dataTable) return;\n",
              "\n",
              "        const docLinkHtml = 'Like what you see? Visit the ' +\n",
              "          '<a target=\"_blank\" href=https://colab.research.google.com/notebooks/data_table.ipynb>data table notebook</a>'\n",
              "          + ' to learn more about interactive tables.';\n",
              "        element.innerHTML = '';\n",
              "        dataTable['output_type'] = 'display_data';\n",
              "        await google.colab.output.renderOutput(dataTable, element);\n",
              "        const docLink = document.createElement('div');\n",
              "        docLink.innerHTML = docLinkHtml;\n",
              "        element.appendChild(docLink);\n",
              "      }\n",
              "    </script>\n",
              "  </div>\n",
              "\n",
              "\n",
              "    <div id=\"df-3f4afffe-d3b4-4430-a905-9f31f407acc4\">\n",
              "      <button class=\"colab-df-quickchart\" onclick=\"quickchart('df-3f4afffe-d3b4-4430-a905-9f31f407acc4')\"\n",
              "                title=\"Suggest charts\"\n",
              "                style=\"display:none;\">\n",
              "\n",
              "<svg xmlns=\"http://www.w3.org/2000/svg\" height=\"24px\"viewBox=\"0 0 24 24\"\n",
              "     width=\"24px\">\n",
              "    <g>\n",
              "        <path d=\"M19 3H5c-1.1 0-2 .9-2 2v14c0 1.1.9 2 2 2h14c1.1 0 2-.9 2-2V5c0-1.1-.9-2-2-2zM9 17H7v-7h2v7zm4 0h-2V7h2v10zm4 0h-2v-4h2v4z\"/>\n",
              "    </g>\n",
              "</svg>\n",
              "      </button>\n",
              "\n",
              "<style>\n",
              "  .colab-df-quickchart {\n",
              "      --bg-color: #E8F0FE;\n",
              "      --fill-color: #1967D2;\n",
              "      --hover-bg-color: #E2EBFA;\n",
              "      --hover-fill-color: #174EA6;\n",
              "      --disabled-fill-color: #AAA;\n",
              "      --disabled-bg-color: #DDD;\n",
              "  }\n",
              "\n",
              "  [theme=dark] .colab-df-quickchart {\n",
              "      --bg-color: #3B4455;\n",
              "      --fill-color: #D2E3FC;\n",
              "      --hover-bg-color: #434B5C;\n",
              "      --hover-fill-color: #FFFFFF;\n",
              "      --disabled-bg-color: #3B4455;\n",
              "      --disabled-fill-color: #666;\n",
              "  }\n",
              "\n",
              "  .colab-df-quickchart {\n",
              "    background-color: var(--bg-color);\n",
              "    border: none;\n",
              "    border-radius: 50%;\n",
              "    cursor: pointer;\n",
              "    display: none;\n",
              "    fill: var(--fill-color);\n",
              "    height: 32px;\n",
              "    padding: 0;\n",
              "    width: 32px;\n",
              "  }\n",
              "\n",
              "  .colab-df-quickchart:hover {\n",
              "    background-color: var(--hover-bg-color);\n",
              "    box-shadow: 0 1px 2px rgba(60, 64, 67, 0.3), 0 1px 3px 1px rgba(60, 64, 67, 0.15);\n",
              "    fill: var(--button-hover-fill-color);\n",
              "  }\n",
              "\n",
              "  .colab-df-quickchart-complete:disabled,\n",
              "  .colab-df-quickchart-complete:disabled:hover {\n",
              "    background-color: var(--disabled-bg-color);\n",
              "    fill: var(--disabled-fill-color);\n",
              "    box-shadow: none;\n",
              "  }\n",
              "\n",
              "  .colab-df-spinner {\n",
              "    border: 2px solid var(--fill-color);\n",
              "    border-color: transparent;\n",
              "    border-bottom-color: var(--fill-color);\n",
              "    animation:\n",
              "      spin 1s steps(1) infinite;\n",
              "  }\n",
              "\n",
              "  @keyframes spin {\n",
              "    0% {\n",
              "      border-color: transparent;\n",
              "      border-bottom-color: var(--fill-color);\n",
              "      border-left-color: var(--fill-color);\n",
              "    }\n",
              "    20% {\n",
              "      border-color: transparent;\n",
              "      border-left-color: var(--fill-color);\n",
              "      border-top-color: var(--fill-color);\n",
              "    }\n",
              "    30% {\n",
              "      border-color: transparent;\n",
              "      border-left-color: var(--fill-color);\n",
              "      border-top-color: var(--fill-color);\n",
              "      border-right-color: var(--fill-color);\n",
              "    }\n",
              "    40% {\n",
              "      border-color: transparent;\n",
              "      border-right-color: var(--fill-color);\n",
              "      border-top-color: var(--fill-color);\n",
              "    }\n",
              "    60% {\n",
              "      border-color: transparent;\n",
              "      border-right-color: var(--fill-color);\n",
              "    }\n",
              "    80% {\n",
              "      border-color: transparent;\n",
              "      border-right-color: var(--fill-color);\n",
              "      border-bottom-color: var(--fill-color);\n",
              "    }\n",
              "    90% {\n",
              "      border-color: transparent;\n",
              "      border-bottom-color: var(--fill-color);\n",
              "    }\n",
              "  }\n",
              "</style>\n",
              "\n",
              "      <script>\n",
              "        async function quickchart(key) {\n",
              "          const quickchartButtonEl =\n",
              "            document.querySelector('#' + key + ' button');\n",
              "          quickchartButtonEl.disabled = true;  // To prevent multiple clicks.\n",
              "          quickchartButtonEl.classList.add('colab-df-spinner');\n",
              "          try {\n",
              "            const charts = await google.colab.kernel.invokeFunction(\n",
              "                'suggestCharts', [key], {});\n",
              "          } catch (error) {\n",
              "            console.error('Error during call to suggestCharts:', error);\n",
              "          }\n",
              "          quickchartButtonEl.classList.remove('colab-df-spinner');\n",
              "          quickchartButtonEl.classList.add('colab-df-quickchart-complete');\n",
              "        }\n",
              "        (() => {\n",
              "          let quickchartButtonEl =\n",
              "            document.querySelector('#df-3f4afffe-d3b4-4430-a905-9f31f407acc4 button');\n",
              "          quickchartButtonEl.style.display =\n",
              "            google.colab.kernel.accessAllowed ? 'block' : 'none';\n",
              "        })();\n",
              "      </script>\n",
              "    </div>\n",
              "\n",
              "  <div id=\"id_dcfa143d-d664-497f-9ec8-0088d70aae1c\">\n",
              "    <style>\n",
              "      .colab-df-generate {\n",
              "        background-color: #E8F0FE;\n",
              "        border: none;\n",
              "        border-radius: 50%;\n",
              "        cursor: pointer;\n",
              "        display: none;\n",
              "        fill: #1967D2;\n",
              "        height: 32px;\n",
              "        padding: 0 0 0 0;\n",
              "        width: 32px;\n",
              "      }\n",
              "\n",
              "      .colab-df-generate:hover {\n",
              "        background-color: #E2EBFA;\n",
              "        box-shadow: 0px 1px 2px rgba(60, 64, 67, 0.3), 0px 1px 3px 1px rgba(60, 64, 67, 0.15);\n",
              "        fill: #174EA6;\n",
              "      }\n",
              "\n",
              "      [theme=dark] .colab-df-generate {\n",
              "        background-color: #3B4455;\n",
              "        fill: #D2E3FC;\n",
              "      }\n",
              "\n",
              "      [theme=dark] .colab-df-generate:hover {\n",
              "        background-color: #434B5C;\n",
              "        box-shadow: 0px 1px 3px 1px rgba(0, 0, 0, 0.15);\n",
              "        filter: drop-shadow(0px 1px 2px rgba(0, 0, 0, 0.3));\n",
              "        fill: #FFFFFF;\n",
              "      }\n",
              "    </style>\n",
              "    <button class=\"colab-df-generate\" onclick=\"generateWithVariable('df')\"\n",
              "            title=\"Generate code using this dataframe.\"\n",
              "            style=\"display:none;\">\n",
              "\n",
              "  <svg xmlns=\"http://www.w3.org/2000/svg\" height=\"24px\"viewBox=\"0 0 24 24\"\n",
              "       width=\"24px\">\n",
              "    <path d=\"M7,19H8.4L18.45,9,17,7.55,7,17.6ZM5,21V16.75L18.45,3.32a2,2,0,0,1,2.83,0l1.4,1.43a1.91,1.91,0,0,1,.58,1.4,1.91,1.91,0,0,1-.58,1.4L9.25,21ZM18.45,9,17,7.55Zm-12,3A5.31,5.31,0,0,0,4.9,8.1,5.31,5.31,0,0,0,1,6.5,5.31,5.31,0,0,0,4.9,4.9,5.31,5.31,0,0,0,6.5,1,5.31,5.31,0,0,0,8.1,4.9,5.31,5.31,0,0,0,12,6.5,5.46,5.46,0,0,0,6.5,12Z\"/>\n",
              "  </svg>\n",
              "    </button>\n",
              "    <script>\n",
              "      (() => {\n",
              "      const buttonEl =\n",
              "        document.querySelector('#id_dcfa143d-d664-497f-9ec8-0088d70aae1c button.colab-df-generate');\n",
              "      buttonEl.style.display =\n",
              "        google.colab.kernel.accessAllowed ? 'block' : 'none';\n",
              "\n",
              "      buttonEl.onclick = () => {\n",
              "        google.colab.notebook.generateWithVariable('df');\n",
              "      }\n",
              "      })();\n",
              "    </script>\n",
              "  </div>\n",
              "\n",
              "    </div>\n",
              "  </div>\n"
            ],
            "application/vnd.google.colaboratory.intrinsic+json": {
              "type": "dataframe",
              "variable_name": "df",
              "summary": "{\n  \"name\": \"df\",\n  \"rows\": 3,\n  \"fields\": [\n    {\n      \"column\": \"avg_complexity\",\n      \"properties\": {\n        \"dtype\": \"date\",\n        \"min\": 4.0,\n        \"max\": 8.0,\n        \"num_unique_values\": 2,\n        \"samples\": [\n          4.0,\n          8.0\n        ],\n        \"semantic_type\": \"\",\n        \"description\": \"\"\n      }\n    },\n    {\n      \"column\": \"maintainability_index\",\n      \"properties\": {\n        \"dtype\": \"date\",\n        \"min\": 79.99,\n        \"max\": 94.13,\n        \"num_unique_values\": 3,\n        \"samples\": [\n          79.99,\n          94.13\n        ],\n        \"semantic_type\": \"\",\n        \"description\": \"\"\n      }\n    },\n    {\n      \"column\": \"mi_grade\",\n      \"properties\": {\n        \"dtype\": \"category\",\n        \"num_unique_values\": 1,\n        \"samples\": [\n          \"A\"\n        ],\n        \"semantic_type\": \"\",\n        \"description\": \"\"\n      }\n    },\n    {\n      \"column\": \"loc\",\n      \"properties\": {\n        \"dtype\": \"date\",\n        \"min\": 11,\n        \"max\": 30,\n        \"num_unique_values\": 2,\n        \"samples\": [\n          11\n        ],\n        \"semantic_type\": \"\",\n        \"description\": \"\"\n      }\n    }\n  ]\n}"
            }
          },
          "metadata": {}
        }
      ]
    },
    {
      "cell_type": "code",
      "source": [
        "import ipywidgets as widgets\n",
        "from IPython.display import display, Markdown, clear_output\n"
      ],
      "metadata": {
        "id": "U7_FA0ydxyAU"
      },
      "execution_count": null,
      "outputs": []
    },
    {
      "cell_type": "code",
      "source": [
        "# Textbox for user prompt\n",
        "prompt_input = widgets.Textarea(\n",
        "    value=\"Write a Python function to find factorial of a number.\",\n",
        "    placeholder=\"Enter your prompt here...\",\n",
        "    description=\"Prompt:\",\n",
        "    layout=widgets.Layout(width=\"100%\", height=\"80px\")\n",
        ")\n",
        "\n",
        "# Model checkboxes\n",
        "model_checkboxes = {\n",
        "    \"DeepSeek\": widgets.Checkbox(value=True, description=\"DeepSeek-Coder-1.3B\"),\n",
        "    \"Phi-2\": widgets.Checkbox(value=True, description=\"Phi-2-2.7B\"),\n",
        "    \"Gemma\": widgets.Checkbox(value=True, description=\"Gemma-2B-IT\")\n",
        "}\n",
        "\n",
        "# Generate button\n",
        "generate_button = widgets.Button(\n",
        "    description=\"🚀 Generate Code\",\n",
        "    button_style=\"success\",\n",
        "    tooltip=\"Click to generate code and metrics\",\n",
        "    icon=\"code\"\n",
        ")\n",
        "\n",
        "# Output area\n",
        "output_area = widgets.Output()\n"
      ],
      "metadata": {
        "id": "axkG_QPoxyDu"
      },
      "execution_count": null,
      "outputs": []
    },
    {
      "cell_type": "code",
      "source": [
        "def on_generate_clicked(b):\n",
        "    clear_output(wait=True)\n",
        "    display(ui_box)\n",
        "    prompt = prompt_input.value.strip()\n",
        "    if not prompt:\n",
        "        print(\"⚠️ Please enter a prompt first.\")\n",
        "        return\n",
        "\n",
        "    selected_models = [m for m, c in model_checkboxes.items() if c.value]\n",
        "    if not selected_models:\n",
        "        print(\"⚠️ Please select at least one model.\")\n",
        "        return\n",
        "\n",
        "    with output_area:\n",
        "        clear_output(wait=True)\n",
        "        print(f\"🧠 Prompt: {prompt}\\n\")\n",
        "        all_results = {}\n",
        "        for model_name in selected_models:\n",
        "            print(f\"🔹 Generating using {model_name} ...\")\n",
        "            raw_code = generate_code(model_name, prompt, max_tokens=400)\n",
        "            clean_code = clean_code_output(raw_code)\n",
        "            metrics = evaluate_code(clean_code)\n",
        "            all_results[model_name] = metrics\n",
        "\n",
        "            print(f\"\\n--- {model_name} Output ---\")\n",
        "            print(clean_code)\n",
        "            print(\"\\nMetrics:\", metrics)\n",
        "            print(\"\\n\" + \"=\"*70 + \"\\n\")\n",
        "\n",
        "        df = pd.DataFrame(all_results).T\n",
        "        display(Markdown(\"### 📊 Model Performance Comparison\"))\n",
        "        display(df)\n"
      ],
      "metadata": {
        "id": "aLnBPq5Ux5OZ"
      },
      "execution_count": null,
      "outputs": []
    },
    {
      "cell_type": "code",
      "source": [
        "generate_button.on_click(on_generate_clicked)\n",
        "\n",
        "ui_box = widgets.VBox([\n",
        "    prompt_input,\n",
        "    widgets.HBox(list(model_checkboxes.values())),\n",
        "    generate_button,\n",
        "    output_area\n",
        "])\n",
        "\n",
        "display(ui_box)\n"
      ],
      "metadata": {
        "colab": {
          "base_uri": "https://localhost:8080/",
          "height": 1000,
          "referenced_widgets": [
            "eb54f3a28f174ef39ef6d0b2d459004a",
            "0d588e3732564a8eafa3cd9250bea255",
            "41668bb42be64c44b55b2d207e13a4f8",
            "c83993b65a8248daa13bc6f85869af45",
            "6936e4e92f0e4a7d83da46496e288ae9",
            "9fa0dd1c76b04f41a8a8b3a9a9f9a084",
            "d8d0c2d71c2b433fb8209e40735fed48",
            "470cf7482b394165a0017a22fc72aa53",
            "514f740df27045079f91668d7d732f02",
            "8e6b8e47e9ed4a2ebe2e19f12d780aeb",
            "ee1c8178245e435b97887ce5c9e87dee",
            "a76cb2b3ac8c44f2a4d2a447b7f151f0",
            "14c108f1c37545629a2acb6d45210dd2",
            "df3dc4571ae14d99b3b2e5f0d0fc7ff9",
            "3551eaf39ca449a1969612d340cb54e9",
            "9728a41a9efe49eda5c9851930e9ce43",
            "bd055a6dbd394bbaaf3c6b98fd727d21",
            "d03e615d539948afb0d8d183f35d6a06",
            "b00277b9976245a2b90d547179d82496",
            "f18e80d3f5224ad28018d24a02de5f35",
            "a21be582c8c142d894c91cddbd71f153"
          ]
        },
        "id": "Xscuane2x5R6",
        "outputId": "83d117ca-7293-4fe1-e7c1-b4357a0dfe87"
      },
      "execution_count": null,
      "outputs": [
        {
          "output_type": "display_data",
          "data": {
            "text/plain": [
              "VBox(children=(Textarea(value='Write a Python function to find factorial of a number.', description='Prompt:',…"
            ],
            "application/vnd.jupyter.widget-view+json": {
              "version_major": 2,
              "version_minor": 0,
              "model_id": "eb54f3a28f174ef39ef6d0b2d459004a"
            }
          },
          "metadata": {
            "application/vnd.jupyter.widget-view+json": {
              "colab": {
                "custom_widget_manager": {
                  "url": "https://ssl.gstatic.com/colaboratory-static/widgets/colab-cdn-widget-manager/2b70e893a8ba7c0f/manager.min.js"
                }
              }
            }
          }
        }
      ]
    },
    {
      "cell_type": "code",
      "source": [
        "\n",
        "import matplotlib.pyplot as plt\n",
        "import pandas as pd\n"
      ],
      "metadata": {
        "id": "LapK6yPszdbV"
      },
      "execution_count": null,
      "outputs": []
    },
    {
      "cell_type": "code",
      "source": [
        "df = pd.DataFrame({\n",
        "    m: res[\"metrics\"] for m, res in results.items()\n",
        "}).T\n"
      ],
      "metadata": {
        "id": "jT-CQNvIzdds"
      },
      "execution_count": null,
      "outputs": []
    },
    {
      "cell_type": "code",
      "source": [
        "def visualize_model_performance(df):\n",
        "    metrics = [\"maintainability_index\", \"avg_complexity\", \"loc\"]\n",
        "    titles = [\"📈 Maintainability Index\", \"⚙️ Code Complexity\", \"📏 Lines of Code\"]\n",
        "    for metric, title in zip(metrics, titles):\n",
        "        plt.figure(figsize=(7,5))\n",
        "        plt.bar(df.index, df[metric])\n",
        "        plt.title(title + \" Comparison\")\n",
        "        plt.xlabel(\"Models\")\n",
        "        plt.ylabel(metric.replace(\"_\", \" \").title())\n",
        "        plt.grid(True, linestyle='--', alpha=0.6)\n",
        "        plt.show()\n",
        "\n",
        "visualize_model_performance(df)\n"
      ],
      "metadata": {
        "colab": {
          "base_uri": "https://localhost:8080/",
          "height": 1000
        },
        "id": "bW1A5tNQz5nj",
        "outputId": "40826964-a57e-422b-c9e8-5d8fa41e49b0"
      },
      "execution_count": null,
      "outputs": [
        {
          "output_type": "display_data",
          "data": {
            "text/plain": [
              "<Figure size 700x500 with 1 Axes>"
            ],
            "image/png": "[encoded data removed]"
          },
          "metadata": {}
        },
        {
          "output_type": "display_data",
          "data": {
            "text/plain": [
              "<Figure size 700x500 with 1 Axes>"
            ],
            "image/png": "[encoded data removed]"
          },
          "metadata": {}
        },
        {
          "output_type": "display_data",
          "data": {
            "text/plain": [
              "<Figure size 700x500 with 1 Axes>"
            ],
            "image/png": "[encoded data removed]"
          },
          "metadata": {}
        }
      ]
    },
    {
      "cell_type": "code",
      "source": [
        "import json\n",
        "\n",
        "path = \"/content/Milestone2_Notebook.ipynb\"  # your notebook filename\n",
        "\n",
        "with open(path, \"r\", encoding=\"utf-8\") as f:\n",
        "    nb = json.load(f)\n",
        "\n",
        "if \"widgets\" in nb.get(\"metadata\", {}):\n",
        "    print(\"🧹 Removing metadata.widgets section...\")\n",
        "    del nb[\"metadata\"][\"widgets\"]\n",
        "\n",
        "# Save cleaned file\n",
        "clean_path = path.replace(\".ipynb\", \"_CLEAN.ipynb\")\n",
        "with open(clean_path, \"w\", encoding=\"utf-8\") as f:\n",
        "    json.dump(nb, f, indent=2)\n",
        "\n",
        "print(f\"✅ Clean notebook saved as: {clean_path}\")\n"
      ],
      "metadata": {
        "colab": {
          "base_uri": "https://localhost:8080/",
          "height": 211
        },
        "id": "Qfmz7tOCscbw",
        "outputId": "6ac15ee2-e93a-4b06-9623-fc91190e3ce7"
      },
      "execution_count": 1,
      "outputs": [
        {
          "output_type": "error",
          "ename": "FileNotFoundError",
          "evalue": "[Errno 2] No such file or directory: '/content/Milestone2_Notebook.ipynb'",
          "traceback": [
            "\u001b[0;31m---------------------------------------------------------------------------\u001b[0m",
            "\u001b[0;31mFileNotFoundError\u001b[0m                         Traceback (most recent call last)",
            "\u001b[0;32m/tmp/ipython-input-377141401.py\u001b[0m in \u001b[0;36m<cell line: 0>\u001b[0;34m()\u001b[0m\n\u001b[1;32m      3\u001b[0m \u001b[0mpath\u001b[0m \u001b[0;34m=\u001b[0m \u001b[0;34m\"/content/Milestone2_Notebook.ipynb\"\u001b[0m  \u001b[0;31m# your notebook filename\u001b[0m\u001b[0;34m\u001b[0m\u001b[0;34m\u001b[0m\u001b[0m\n\u001b[1;32m      4\u001b[0m \u001b[0;34m\u001b[0m\u001b[0m\n\u001b[0;32m----> 5\u001b[0;31m \u001b[0;32mwith\u001b[0m \u001b[0mopen\u001b[0m\u001b[0;34m(\u001b[0m\u001b[0mpath\u001b[0m\u001b[0;34m,\u001b[0m \u001b[0;34m\"r\"\u001b[0m\u001b[0;34m,\u001b[0m \u001b[0mencoding\u001b[0m\u001b[0;34m=\u001b[0m\u001b[0;34m\"utf-8\"\u001b[0m\u001b[0;34m)\u001b[0m \u001b[0;32mas\u001b[0m \u001b[0mf\u001b[0m\u001b[0;34m:\u001b[0m\u001b[0;34m\u001b[0m\u001b[0;34m\u001b[0m\u001b[0m\n\u001b[0m\u001b[1;32m      6\u001b[0m     \u001b[0mnb\u001b[0m \u001b[0;34m=\u001b[0m \u001b[0mjson\u001b[0m\u001b[0;34m.\u001b[0m\u001b[0mload\u001b[0m\u001b[0;34m(\u001b[0m\u001b[0mf\u001b[0m\u001b[0;34m)\u001b[0m\u001b[0;34m\u001b[0m\u001b[0;34m\u001b[0m\u001b[0m\n\u001b[1;32m      7\u001b[0m \u001b[0;34m\u001b[0m\u001b[0m\n",
            "\u001b[0;31mFileNotFoundError\u001b[0m: [Errno 2] No such file or directory: '/content/Milestone2_Notebook.ipynb'"
          ]
        }
      ]
    },
    {
      "cell_type": "code",
      "source": [
        "import os\n",
        "\n",
        "print(\"📂 Files currently in /content/:\")\n",
        "for file in os.listdir(\"/content\"):\n",
        "    if file.endswith(\".ipynb\"):\n",
        "        print(\"➡️\", file)\n"
      ],
      "metadata": {
        "colab": {
          "base_uri": "https://localhost:8080/"
        },
        "id": "qu6nA3Hesces",
        "outputId": "9a71df27-1165-462a-8a28-71172c60e66e"
      },
      "execution_count": 5,
      "outputs": [
        {
          "output_type": "stream",
          "name": "stdout",
          "text": [
            "📂 Files currently in /content/:\n"
          ]
        }
      ]
    }
  ]
}